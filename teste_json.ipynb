{
 "cells": [
  {
   "cell_type": "code",
   "execution_count": 1,
   "metadata": {},
   "outputs": [],
   "source": [
    "import numpy as np\n",
    "import pandas\n",
    "import json\n",
    "from collections import defaultdict\n",
    "\n"
   ]
  },
  {
   "cell_type": "code",
   "execution_count": 131,
   "metadata": {},
   "outputs": [],
   "source": [
    "json_file = open('source_file_2.json')\n",
    "json_s = json_file.read()\n",
    "managers = {}\n",
    "watchers = {}\n",
    "projects = {}\n",
    "man = []\n",
    "wat = []\n",
    "\n",
    "n = 45\n",
    "for i in range(45):\n",
    "    json_d = json.loads(json_s)[i]\n",
    "    projects[json_d['priority']] = json_d['name']\n",
    "    #projects.append((json_d['priority'],json_d['name']))\n",
    "    for m_name in json_d['managers']:\n",
    "        if m_name not in managers:\n",
    "            managers[m_name] = []\n",
    "        managers[m_name].append(json_d['priority'])\n",
    "    for w_name in json_d['watchers']:\n",
    "        if w_name not in watchers:\n",
    "            watchers[w_name] = []\n",
    "        watchers[w_name].append(json_d['priority'])\n",
    "\n",
    "for manager in managers:\n",
    "    aux = []\n",
    "    managers[manager].sort()\n",
    "    for prio in managers[manager]: \n",
    "        aux.append(projects[prio])\n",
    "    managers[manager] = aux\n",
    "    del aux\n",
    "    \n",
    "for watcher in watchers:\n",
    "    aux = []\n",
    "    watchers[watcher].sort()\n",
    "    for prio in watchers[watcher]: \n",
    "        aux.append(projects[prio])\n",
    "    watchers[watcher] = aux\n",
    "    del aux\n",
    "\n",
    "\n",
    "with open('managers.json', 'w') as fp:\n",
    "    json.dump(managers, fp)\n",
    "    \n",
    "with open('watchers.json', 'w') as fp:\n",
    "    json.dump(watchers, fp)\n",
    "\n",
    "\n",
    "\n",
    "\n",
    "\n"
   ]
  },
  {
   "cell_type": "code",
   "execution_count": null,
   "metadata": {},
   "outputs": [],
   "source": []
  }
 ],
 "metadata": {
  "kernelspec": {
   "display_name": "Python 3",
   "language": "python",
   "name": "python3"
  },
  "language_info": {
   "codemirror_mode": {
    "name": "ipython",
    "version": 3
   },
   "file_extension": ".py",
   "mimetype": "text/x-python",
   "name": "python",
   "nbconvert_exporter": "python",
   "pygments_lexer": "ipython3",
   "version": "3.8.3"
  }
 },
 "nbformat": 4,
 "nbformat_minor": 4
}
