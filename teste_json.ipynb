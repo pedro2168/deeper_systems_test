{
 "cells": [
  {
   "cell_type": "code",
   "execution_count": 1,
   "metadata": {},
   "outputs": [],
   "source": [
    "import numpy as np\n",
    "import pandas\n",
    "import json\n",
    "from collections import defaultdict\n",
    "\n"
   ]
  },
  {
   "cell_type": "code",
   "execution_count": 130,
   "metadata": {},
   "outputs": [
    {
     "name": "stdout",
     "output_type": "stream",
     "text": [
      "{'csaftoiu': ['sportsparsers - pinnacle API', '[OCR] tesseract MRZ reading ', 'unity render diff passport text artur', '[CV] [Qt] OpenCV GUI', 'unity render different passport text', '[template] unity render passport text', 'matchbook parser - mfilho'], 'merlin': ['[EXECUTIVE] Merlin', '[Web] pm-site', '[ID-VERIFY-PIPELINE] finger detector', '[CHESS] Live Demo Executive', '[INHOUSE-TOOLS] NN-Webapp', '[INHOUSE-TOOLS] Annotators app', '[CV] [Qt] OpenCV GUI', 'python training lucas', 'python training alysson', 'unity render diff passport text - kennedy', 'Unity Render Passport Text [Template]', 'chess board finder eliaquim', '[IOS-APPS] IOS streaming app', '[IOS-APPS] IOS PI app', '[HR] Candidate tests', '[CHATBOT] merlin', '[ID-VERIFY-PIPELINE] Background evaluator', '[ID-VERIFY-PIPELINE] Passport finder', '[CHATBOT] rodrigo', '[BG-CLUB-SITE] frontend', '[INHOUSE-TOOLS] NN-Webapp 2'], 'luanda': ['Annotations'], 'morris': ['sportsparsers - esportscalendar', 'sportsparsers - unikrn', 'Deepgammon', 'Runningball Parser', 'sportsparsers - unibet', 'sportsparsers - tipster.de', 'sportsparsers - betway', 'sportsparsers - gg.bet', 'sportsparsers - matchbook', 'matchbook parser - mfilho'], 'arturc': ['unity render diff passport text artur'], 'victor-mgr': ['mateus silva bg deep checkers', 'Android Camera App rrocha', 'bg deep learning aporto', 'bg deep checkers rvalentim', 'tourney site famador', 'tourney site ariel', 'tourney site tbarbalho'], 'ariel': ['[BG-CLUB-SITE] frontend'], 'victor': ['morris bg data gathering']}\n"
     ]
    }
   ],
   "source": [
    "json_file = open('source_file.json')\n",
    "json_s = json_file.read()\n",
    "managers = {}\n",
    "watchers = {}\n",
    "projects = {}\n",
    "man = []\n",
    "wat = []\n",
    "\n",
    "n = 45\n",
    "for i in range(45):\n",
    "    json_d = json.loads(json_s)[i]\n",
    "    projects[json_d['priority']] = json_d['name']\n",
    "    #projects.append((json_d['priority'],json_d['name']))\n",
    "    for m_name in json_d['managers']:\n",
    "        if m_name not in managers:\n",
    "            managers[m_name] = []\n",
    "        managers[m_name].append(json_d['priority'])\n",
    "    for w_name in json_d['watchers']:\n",
    "        if w_name not in watchers:\n",
    "            watchers[w_name] = []\n",
    "        watchers[w_name].append(json_d['priority'])\n",
    "\n",
    "for manager in managers:\n",
    "    aux = []\n",
    "    managers[manager].sort()\n",
    "    for prio in managers[manager]: \n",
    "        aux.append(projects[prio])\n",
    "    managers[manager] = aux\n",
    "    del aux\n",
    "    \n",
    "for watcher in watchers:\n",
    "    aux = []\n",
    "    watchers[watcher].sort()\n",
    "    for prio in watchers[watcher]: \n",
    "        aux.append(projects[prio])\n",
    "    watchers[watcher] = aux\n",
    "    del aux\n",
    "\n",
    "\n",
    "with open('managers.json', 'w') as fp:\n",
    "    json.dump(managers, fp)\n",
    "    \n",
    "with open('watchers.json', 'w') as fp:\n",
    "    json.dump(watchers, fp)\n",
    "\n",
    "\n",
    "\n",
    "\n",
    "\n"
   ]
  },
  {
   "cell_type": "code",
   "execution_count": 120,
   "metadata": {},
   "outputs": [
    {
     "name": "stdout",
     "output_type": "stream",
     "text": [
      "{'um': ['1', '2'], 'dois': ['3', '4'], 'tres': ['5', '6']}\n",
      "{'um': ['1', '2', '0'], 'dois': ['3', '4'], 'tres': ['5', '6']}\n",
      "{'um': [1, 2, 3, 4, 5, 6, 7, 8], 'dois': ['3', '4'], 'tres': ['5', '6']}\n"
     ]
    }
   ],
   "source": [
    "dicio = {'um':['1','2'], 'dois':['3','4'],'tres':['5','6']}\n",
    "A = [1,2,3,4,5,6,7,8]\n",
    "print(dicio)\n",
    "dicio['um'].append('0')\n",
    "print(dicio)\n",
    "dicio['um'] = A\n",
    "print(dicio)"
   ]
  },
  {
   "cell_type": "code",
   "execution_count": 110,
   "metadata": {},
   "outputs": [
    {
     "name": "stdout",
     "output_type": "stream",
     "text": [
      "[340, 560, 815, 850, 2230, 2235, 2575]\n"
     ]
    }
   ],
   "source": [
    "print(managers['csaftoiu'])"
   ]
  },
  {
   "cell_type": "code",
   "execution_count": 113,
   "metadata": {},
   "outputs": [
    {
     "name": "stdout",
     "output_type": "stream",
     "text": [
      "{850: '[CV] [Qt] OpenCV GUI', 260: '[Web] pm-site', 10: 'Annotations', 560: '[OCR] tesseract MRZ reading ', 150: 'Deepgammon', 2160: 'python training lucas', 2180: 'python training alysson', 2230: 'unity render different passport text', 2235: '[template] unity render passport text', 815: 'unity render diff passport text artur', 2260: 'unity render diff passport text - kennedy', 2265: 'Unity Render Passport Text [Template]', 2295: 'mateus silva bg deep checkers', 2300: 'Android Camera App rrocha', 2305: 'bg deep learning aporto', 2310: 'bg deep checkers rvalentim', 2320: 'tourney site famador', 2330: 'chess board finder eliaquim', 2340: 'tourney site ariel', 2345: 'tourney site tbarbalho', 750: '[CHESS] Live Demo Executive', 20: '[EXECUTIVE] Merlin', 755: '[INHOUSE-TOOLS] NN-Webapp', 760: '[INHOUSE-TOOLS] Annotators app', 2375: '[IOS-APPS] IOS streaming app', 2380: '[IOS-APPS] IOS PI app', 2385: '[HR] Candidate tests', 2390: '[CHATBOT] merlin', 735: '[ID-VERIFY-PIPELINE] finger detector', 2395: '[ID-VERIFY-PIPELINE] Background evaluator', 2400: '[ID-VERIFY-PIPELINE] Passport finder', 2405: '[CHATBOT] rodrigo', 2435: '[BG-CLUB-SITE] frontend', 130: 'morris bg data gathering', 340: 'sportsparsers - pinnacle API', 2520: '[INHOUSE-TOOLS] NN-Webapp 2', 295: 'sportsparsers - tipster.de', 395: 'sportsparsers - matchbook', 2575: 'matchbook parser - mfilho', 310: 'sportsparsers - gg.bet', 300: 'sportsparsers - betway', 155: 'Runningball Parser', 145: 'sportsparsers - unikrn', 250: 'sportsparsers - unibet', 55: 'sportsparsers - esportscalendar'}\n"
     ]
    }
   ],
   "source": [
    "print(projects)"
   ]
  },
  {
   "cell_type": "code",
   "execution_count": null,
   "metadata": {},
   "outputs": [],
   "source": []
  }
 ],
 "metadata": {
  "kernelspec": {
   "display_name": "Python 3",
   "language": "python",
   "name": "python3"
  },
  "language_info": {
   "codemirror_mode": {
    "name": "ipython",
    "version": 3
   },
   "file_extension": ".py",
   "mimetype": "text/x-python",
   "name": "python",
   "nbconvert_exporter": "python",
   "pygments_lexer": "ipython3",
   "version": "3.8.3"
  }
 },
 "nbformat": 4,
 "nbformat_minor": 4
}
